{
 "cells": [
  {
   "cell_type": "code",
   "execution_count": 1,
   "metadata": {},
   "outputs": [],
   "source": [
    "import sys\n",
    "import os\n",
    "\n",
    "# Get the project root directory (parent of the notebooks folder)\n",
    "project_root = os.path.abspath(os.path.join(os.getcwd(), '..'))\n",
    "\n",
    "# Add the src folder to the Python path\n",
    "sys.path.append(project_root)"
   ]
  },
  {
   "cell_type": "code",
   "execution_count": 2,
   "metadata": {},
   "outputs": [
    {
     "name": "stdout",
     "output_type": "stream",
     "text": [
      "Batch of images shape: torch.Size([32, 3, 224, 224])\n",
      "Batch of labels: tensor([ 98, 103, 130, 103,  87,  15,  69,  71, 127, 129,  52, 130,  96,  38,\n",
      "         57,   2,  75, 121, 130, 130, 130,  38,  54, 116, 130,  87,  90,  75,\n",
      "        114, 103, 103,  79])\n",
      "Batch of images shape: torch.Size([13, 3, 224, 224])\n",
      "Batch of labels: tensor([ 87, 130, 129, 103, 114,  15,  20, 130,  38,  58, 103,  43,  38])\n",
      "Batch of images shape: torch.Size([5, 3, 224, 224])\n",
      "Batch of labels: tensor([126, 130, 114,   2,  58])\n"
     ]
    }
   ],
   "source": [
    "from src.data_preprocessing import DataLoaders\n",
    "\n",
    "loaders = DataLoaders(trial_data=True)\n",
    "train_dataloader = loaders.get_train_dataloader()\n",
    "test_dataloader = loaders.get_test_dataloader()\n",
    "for images, labels in train_dataloader:\n",
    "    print(f'Batch of images shape: {images.shape}')\n",
    "    print(f'Batch of labels: {labels}')\n",
    "\n",
    "for images, labels in test_dataloader:\n",
    "    print(f'Batch of images shape: {images.shape}')\n",
    "    print(f'Batch of labels: {labels}')"
   ]
  },
  {
   "cell_type": "code",
   "execution_count": 3,
   "metadata": {},
   "outputs": [],
   "source": [
    "import torch\n",
    "\n",
    "\n",
    "def evaluate(model, test_loader, criterion, device):\n",
    "    model.eval()  # Set model to evaluation mode\n",
    "    test_loss = 0.0\n",
    "    correct = 0\n",
    "    total = 0\n",
    "\n",
    "    with torch.no_grad():  # Disable gradient calculation for evaluation\n",
    "        for inputs, labels in test_loader:\n",
    "            inputs, labels = inputs.to(device), labels.to(device)\n",
    "            outputs = model(inputs)\n",
    "            loss = criterion(outputs, labels)\n",
    "            test_loss += loss.item()\n",
    "            _, predicted = torch.max(outputs.data, 1)\n",
    "            total += labels.size(0)\n",
    "            correct += (predicted == labels).sum().item()\n",
    "\n",
    "    avg_loss = test_loss / len(test_loader)\n",
    "    accuracy = 100 * correct / total\n",
    "    return avg_loss, accuracy"
   ]
  },
  {
   "cell_type": "code",
   "execution_count": 4,
   "metadata": {},
   "outputs": [
    {
     "name": "stderr",
     "output_type": "stream",
     "text": [
      "/Users/mateuszwitka-jezewski/Documents/Projekty/geoguessrai/src/models/tiny_vit.py:640: UserWarning: Overwriting tiny_vit_5m_224 in registry with src.models.tiny_vit.tiny_vit_5m_224. This is because the name being registered conflicts with an existing name. Please check if this is not expected.\n",
      "  @register_model\n",
      "/Users/mateuszwitka-jezewski/Documents/Projekty/geoguessrai/src/models/tiny_vit.py:653: UserWarning: Overwriting tiny_vit_11m_224 in registry with src.models.tiny_vit.tiny_vit_11m_224. This is because the name being registered conflicts with an existing name. Please check if this is not expected.\n",
      "  @register_model\n",
      "/Users/mateuszwitka-jezewski/Documents/Projekty/geoguessrai/src/models/tiny_vit.py:666: UserWarning: Overwriting tiny_vit_21m_224 in registry with src.models.tiny_vit.tiny_vit_21m_224. This is because the name being registered conflicts with an existing name. Please check if this is not expected.\n",
      "  @register_model\n",
      "/Users/mateuszwitka-jezewski/Documents/Projekty/geoguessrai/src/models/tiny_vit.py:679: UserWarning: Overwriting tiny_vit_21m_384 in registry with src.models.tiny_vit.tiny_vit_21m_384. This is because the name being registered conflicts with an existing name. Please check if this is not expected.\n",
      "  @register_model\n",
      "/Users/mateuszwitka-jezewski/Documents/Projekty/geoguessrai/src/models/tiny_vit.py:693: UserWarning: Overwriting tiny_vit_21m_512 in registry with src.models.tiny_vit.tiny_vit_21m_512. This is because the name being registered conflicts with an existing name. Please check if this is not expected.\n",
      "  @register_model\n"
     ]
    },
    {
     "name": "stdout",
     "output_type": "stream",
     "text": [
      "Epoch [1/10], Train Loss: 6.8911, Test Loss: 6.3681, Test Accuracy: 0.00%\n",
      "Epoch [2/10], Train Loss: 4.1856, Test Loss: 5.4524, Test Accuracy: 20.00%\n",
      "Epoch [3/10], Train Loss: 2.7572, Test Loss: 5.7069, Test Accuracy: 20.00%\n",
      "Epoch [4/10], Train Loss: 1.7090, Test Loss: 5.0508, Test Accuracy: 20.00%\n",
      "Epoch [5/10], Train Loss: 1.2259, Test Loss: 6.1780, Test Accuracy: 0.00%\n",
      "Epoch [6/10], Train Loss: 0.6554, Test Loss: 5.6981, Test Accuracy: 0.00%\n",
      "Epoch [7/10], Train Loss: 0.4727, Test Loss: 5.1840, Test Accuracy: 0.00%\n",
      "Epoch [8/10], Train Loss: 0.2835, Test Loss: 5.3708, Test Accuracy: 0.00%\n",
      "Epoch [9/10], Train Loss: 0.1827, Test Loss: 5.5460, Test Accuracy: 0.00%\n",
      "Epoch [10/10], Train Loss: 0.1415, Test Loss: 5.5969, Test Accuracy: 0.00%\n"
     ]
    }
   ],
   "source": [
    "\n",
    "from src.models.tiny_vit import tiny_vit_5m_224\n",
    "import torch.optim as optim\n",
    "import torch.nn as nn\n",
    "\n",
    "num_epochs = 10\n",
    "learning_rate = 0.001\n",
    "\n",
    "model = tiny_vit_5m_224()\n",
    "criterion = nn.CrossEntropyLoss()\n",
    "optimizer = optim.Adam(model.parameters(), lr=learning_rate)\n",
    "device = torch.device(\"mps\")\n",
    "\n",
    "model.to(device)\n",
    "for epoch in range(num_epochs):\n",
    "    model.train()\n",
    "    running_loss = 0.0\n",
    "    for batch_idx, (inputs, labels) in enumerate(train_dataloader):\n",
    "        inputs, labels = inputs.to(device), labels.to(device)\n",
    "        optimizer.zero_grad()\n",
    "        outputs = model(inputs)\n",
    "        loss = criterion(outputs, labels)\n",
    "        loss.backward()\n",
    "        optimizer.step()\n",
    "        running_loss += loss.item()\n",
    "\n",
    "    train_loss = running_loss / len(train_dataloader)\n",
    "    test_loss, test_accuracy = evaluate(model, test_dataloader, criterion, device)\n",
    "    print(f'Epoch [{epoch+1}/{num_epochs}], '\n",
    "              f'Train Loss: {train_loss:.4f}, '\n",
    "              f'Test Loss: {test_loss:.4f}, '\n",
    "              f'Test Accuracy: {test_accuracy:.2f}%')"
   ]
  },
  {
   "cell_type": "code",
   "execution_count": null,
   "metadata": {},
   "outputs": [],
   "source": []
  }
 ],
 "metadata": {
  "kernelspec": {
   "display_name": "Python 3",
   "language": "python",
   "name": "python3"
  },
  "language_info": {
   "codemirror_mode": {
    "name": "ipython",
    "version": 3
   },
   "file_extension": ".py",
   "mimetype": "text/x-python",
   "name": "python",
   "nbconvert_exporter": "python",
   "pygments_lexer": "ipython3",
   "version": "3.11.4"
  }
 },
 "nbformat": 4,
 "nbformat_minor": 2
}
