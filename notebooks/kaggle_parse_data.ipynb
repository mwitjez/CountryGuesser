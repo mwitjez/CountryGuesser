{
 "cells": [
  {
   "cell_type": "code",
   "execution_count": 23,
   "metadata": {},
   "outputs": [
    {
     "data": {
      "text/html": [
       "<style>\n",
       ".cell-output-ipywidget-background {\n",
       "    background-color: transparent !important;\n",
       "}\n",
       ":root {\n",
       "    --jp-widgets-color: var(--vscode-editor-foreground);\n",
       "    --jp-widgets-font-size: var(--vscode-editor-font-size);\n",
       "}  \n",
       "</style>\n"
      ],
      "text/plain": [
       "<IPython.core.display.HTML object>"
      ]
     },
     "metadata": {},
     "output_type": "display_data"
    }
   ],
   "source": [
    "%%html\n",
    "<style>\n",
    ".cell-output-ipywidget-background {\n",
    "    background-color: transparent !important;\n",
    "}\n",
    ":root {\n",
    "    --jp-widgets-color: var(--vscode-editor-foreground);\n",
    "    --jp-widgets-font-size: var(--vscode-editor-font-size);\n",
    "}  \n",
    "</style>"
   ]
  },
  {
   "cell_type": "code",
   "execution_count": 1,
   "metadata": {},
   "outputs": [],
   "source": [
    "import sys\n",
    "import os\n",
    "\n",
    "# Get the project root directory (parent of the notebooks folder)\n",
    "project_root = os.path.abspath(os.path.join(os.getcwd(), '..'))\n",
    "\n",
    "# Add the src folder to the Python path\n",
    "sys.path.append(project_root)"
   ]
  },
  {
   "cell_type": "code",
   "execution_count": 2,
   "metadata": {},
   "outputs": [],
   "source": [
    "import msgpack\n",
    "import glob\n",
    "from tqdm import tqdm\n",
    "from PIL import Image\n",
    "from io import BytesIO\n",
    "import os \n",
    "\n",
    "#For Loading Images\n",
    "from PIL import Image\n",
    "\n",
    "\n",
    "import matplotlib.pyplot as plt\n",
    "import os\n",
    "import pandas as pd\n",
    "\n",
    "from tqdm.notebook import trange, tqdm\n",
    "from time import sleep"
   ]
  },
  {
   "cell_type": "code",
   "execution_count": 3,
   "metadata": {},
   "outputs": [],
   "source": [
    "def get_image(record):\n",
    "        return Image.open(BytesIO(record[\"image\"]))\n",
    "\n",
    "def images_read_save(shard_fnames):\n",
    "    \n",
    "    directory = \"large-dataset-of-geotagged-images\"\n",
    "  \n",
    "    # Parent Directory path \n",
    "    parent_dir = \"../data/trial_data\"\n",
    "\n",
    "    # Path \n",
    "    path = os.path.join(parent_dir, directory) \n",
    "    os.mkdir(path) \n",
    "    print(\"Directory '% s' created\" % directory) \n",
    "    coords = []\n",
    "    image_id=[]\n",
    "    for shard_fname in tqdm(shard_fnames):\n",
    "        #print(f\"Processing {shard_fname.split('/')[-1]}\")\n",
    "        with open(shard_fname, \"rb\") as infile:\n",
    "            for record in msgpack.Unpacker(infile, raw=False):\n",
    "\n",
    "                img = get_image(record)\n",
    "                img.save('../data/trial_data/'+directory+'/'+str(record[\"latitude\"])+'_'+str(record[\"longitude\"])+'_'+''.join(record['id'].split('/')), 'JPEG')\n",
    "                coords.append((record[\"latitude\"], record[\"longitude\"]))\n",
    "                image_id.append('../data/trial_data/'+directory+'/'+str(record[\"latitude\"])+'_'+str(record[\"longitude\"])+'_'+''.join(record['id'].split('/')))\n",
    "\n",
    "    return coords,image_id\n"
   ]
  },
  {
   "cell_type": "code",
   "execution_count": 4,
   "metadata": {},
   "outputs": [
    {
     "name": "stdout",
     "output_type": "stream",
     "text": [
      "Directory 'large-dataset-of-geotagged-images' created\n"
     ]
    },
    {
     "data": {
      "application/vnd.jupyter.widget-view+json": {
       "model_id": "0bfc82b63de5472180c7792ae21fb52c",
       "version_major": 2,
       "version_minor": 0
      },
      "text/plain": [
       "  0%|          | 0/1 [00:00<?, ?it/s]"
      ]
     },
     "metadata": {},
     "output_type": "display_data"
    },
    {
     "data": {
      "text/html": [
       "<div>\n",
       "<style scoped>\n",
       "    .dataframe tbody tr th:only-of-type {\n",
       "        vertical-align: middle;\n",
       "    }\n",
       "\n",
       "    .dataframe tbody tr th {\n",
       "        vertical-align: top;\n",
       "    }\n",
       "\n",
       "    .dataframe thead th {\n",
       "        text-align: right;\n",
       "    }\n",
       "</style>\n",
       "<table border=\"1\" class=\"dataframe\">\n",
       "  <thead>\n",
       "    <tr style=\"text-align: right;\">\n",
       "      <th></th>\n",
       "      <th>id</th>\n",
       "      <th>lat</th>\n",
       "      <th>lng</th>\n",
       "    </tr>\n",
       "  </thead>\n",
       "  <tbody>\n",
       "    <tr>\n",
       "      <th>0</th>\n",
       "      <td>../data/trial_data/large-dataset-of-geotagged-...</td>\n",
       "      <td>-34.574164</td>\n",
       "      <td>-58.453917</td>\n",
       "    </tr>\n",
       "    <tr>\n",
       "      <th>1</th>\n",
       "      <td>../data/trial_data/large-dataset-of-geotagged-...</td>\n",
       "      <td>47.608571</td>\n",
       "      <td>-122.340247</td>\n",
       "    </tr>\n",
       "    <tr>\n",
       "      <th>2</th>\n",
       "      <td>../data/trial_data/large-dataset-of-geotagged-...</td>\n",
       "      <td>43.266050</td>\n",
       "      <td>-79.904980</td>\n",
       "    </tr>\n",
       "    <tr>\n",
       "      <th>3</th>\n",
       "      <td>../data/trial_data/large-dataset-of-geotagged-...</td>\n",
       "      <td>42.267385</td>\n",
       "      <td>-71.807584</td>\n",
       "    </tr>\n",
       "    <tr>\n",
       "      <th>4</th>\n",
       "      <td>../data/trial_data/large-dataset-of-geotagged-...</td>\n",
       "      <td>57.040974</td>\n",
       "      <td>8.495188</td>\n",
       "    </tr>\n",
       "  </tbody>\n",
       "</table>\n",
       "</div>"
      ],
      "text/plain": [
       "                                                  id        lat         lng\n",
       "0  ../data/trial_data/large-dataset-of-geotagged-... -34.574164  -58.453917\n",
       "1  ../data/trial_data/large-dataset-of-geotagged-...  47.608571 -122.340247\n",
       "2  ../data/trial_data/large-dataset-of-geotagged-...  43.266050  -79.904980\n",
       "3  ../data/trial_data/large-dataset-of-geotagged-...  42.267385  -71.807584\n",
       "4  ../data/trial_data/large-dataset-of-geotagged-...  57.040974    8.495188"
      ]
     },
     "execution_count": 4,
     "metadata": {},
     "output_type": "execute_result"
    }
   ],
   "source": [
    "dataset_dir = \"../data/trial_data/shards/\"\n",
    "shard_fnames = [os.path.join(dataset_dir, fname) for fname in os.listdir(dataset_dir) if fname.endswith(\".msg\")]\n",
    "coords, image_id=images_read_save(shard_fnames)\n",
    "\n",
    "def create_df(image_id,coords):\n",
    "    df_1=pd.DataFrame(image_id)\n",
    "    df_1.rename(columns={df_1.columns[0]:'id'},inplace=True)\n",
    "    df_2=pd.DataFrame(coords)\n",
    "    df_2.rename(columns={df_2.columns[0]:'lat',df_2.columns[1]:'lng'},inplace=True)\n",
    "    df_final=pd.concat([df_1,df_2],axis=1)\n",
    "    return df_final\n",
    "    \n",
    "df=create_df(image_id, coords)\n",
    "\n",
    "df.head()\n",
    "\n"
   ]
  },
  {
   "cell_type": "code",
   "execution_count": 9,
   "metadata": {},
   "outputs": [
    {
     "name": "stdout",
     "output_type": "stream",
     "text": [
      "[('../data/trial_data/large-dataset-of-geotagged-images/-34.574164_-58.453917_75553923967888.jpg', 2), ('../data/trial_data/large-dataset-of-geotagged-images/47.608571_-122.340247_f2b22703239886.jpg', 130), ('../data/trial_data/large-dataset-of-geotagged-images/43.26605_-79.90498_e5d62090373280.jpg', 20), ('../data/trial_data/large-dataset-of-geotagged-images/42.267385_-71.807584_8acd148928726.jpg', 130), ('../data/trial_data/large-dataset-of-geotagged-images/57.040974_8.495188_50da5195081755.jpg', 30), ('../data/trial_data/large-dataset-of-geotagged-images/13.7455_100.533166_c6ee9310838382.jpg', 121), ('../data/trial_data/large-dataset-of-geotagged-images/-33.042198_-71.605625_d4176667367483.jpg', 21), ('../data/trial_data/large-dataset-of-geotagged-images/41.161734_-112.019659_9b037893100200.jpg', 130), ('../data/trial_data/large-dataset-of-geotagged-images/35.68164_139.764375_abcf3349427276.jpg', 58), ('../data/trial_data/large-dataset-of-geotagged-images/45.182127_0.723252_a9546582005807.jpg', 38), ('../data/trial_data/large-dataset-of-geotagged-images/51.907531_-1.775064_8e72104956011.jpg', 129), ('../data/trial_data/large-dataset-of-geotagged-images/50.044407_-5.644826_35752987231409.jpg', 129), ('../data/trial_data/large-dataset-of-geotagged-images/-23.551202_-46.641812_fa5213985610332.jpg', 15), ('../data/trial_data/large-dataset-of-geotagged-images/24.551158_-81.800903_b9458124948058.jpg', 130), ('../data/trial_data/large-dataset-of-geotagged-images/43.329423_21.89352_158c3889690460.jpg', 109), ('../data/trial_data/large-dataset-of-geotagged-images/50.921189_6.353595_ade78593626284.jpg', 40), ('../data/trial_data/large-dataset-of-geotagged-images/45.497699_-73.551578_a548245913008.jpg', 20), ('../data/trial_data/large-dataset-of-geotagged-images/42.52519_3.084239_f9ae4503100411.jpg', 38), ('../data/trial_data/large-dataset-of-geotagged-images/38.989131_-0.522167_570c2118957688.jpg', 114), ('../data/trial_data/large-dataset-of-geotagged-images/47.990323_-123.52847_94b2229246707.jpg', 130), ('../data/trial_data/large-dataset-of-geotagged-images/28.410124_-81.583871_bf632534166633.jpg', 130), ('../data/trial_data/large-dataset-of-geotagged-images/51.506231_7.101706_e149937585823.jpg', 40), ('../data/trial_data/large-dataset-of-geotagged-images/-37.814276_144.975628_b63a6292884306.jpg', 4), ('../data/trial_data/large-dataset-of-geotagged-images/-0.336969_36.116008_dfd78559492443.jpg', 62), ('../data/trial_data/large-dataset-of-geotagged-images/52.197418_-2.223717_15df4237507837.jpg', 129), ('../data/trial_data/large-dataset-of-geotagged-images/40.750118_-73.995151_486a4749279636.jpg', 130), ('../data/trial_data/large-dataset-of-geotagged-images/13.74484_100.540244_7c244507877082.jpg', 121), ('../data/trial_data/large-dataset-of-geotagged-images/-33.869346_151.20964_7335269960116.jpg', 4), ('../data/trial_data/large-dataset-of-geotagged-images/51.421878_-1.73132_8da79167540487.jpg', 129), ('../data/trial_data/large-dataset-of-geotagged-images/30.111869_35.378723_c7f212873288215.jpg', 60), ('../data/trial_data/large-dataset-of-geotagged-images/48.004826_7.635626_284f3722092878.jpg', 40), ('../data/trial_data/large-dataset-of-geotagged-images/44.496646_11.350486_28aa3380730894.jpg', 57), ('../data/trial_data/large-dataset-of-geotagged-images/39.433284_-76.623428_ad4c3983973721.jpg', 130), ('../data/trial_data/large-dataset-of-geotagged-images/46.338484_-79.489796_89674466453177.jpg', 20), ('../data/trial_data/large-dataset-of-geotagged-images/36.643286_117.023466_d7c94894260442.jpg', 22), ('../data/trial_data/large-dataset-of-geotagged-images/42.913377_-122.148914_43111368909431.jpg', 130), ('../data/trial_data/large-dataset-of-geotagged-images/53.132353_-9.219589_bcff3069416352.jpg', 54), ('../data/trial_data/large-dataset-of-geotagged-images/45.547521_-75.824557_2ec43174206110.jpg', 20), ('../data/trial_data/large-dataset-of-geotagged-images/56.88819_-3.181915_45556323399483.jpg', 129), ('../data/trial_data/large-dataset-of-geotagged-images/-39.629358_174.971008_5c9c3015749840.jpg', 87), ('../data/trial_data/large-dataset-of-geotagged-images/34.08899_-118.476326_b49c34472693.jpg', 130), ('../data/trial_data/large-dataset-of-geotagged-images/42.877725_-87.990188_35a22729086224.jpg', 130), ('../data/trial_data/large-dataset-of-geotagged-images/48.84689_2.34079_a0114542773743.jpg', 38), ('../data/trial_data/large-dataset-of-geotagged-images/20.018445_-97.522115_265e6622021681.jpg', 79), ('../data/trial_data/large-dataset-of-geotagged-images/40.667521_-73.962492_53c88743132339.jpg', 130), ('../data/trial_data/large-dataset-of-geotagged-images/49.242987_-123.11305_d84a2675733175.jpg', 20), ('../data/trial_data/large-dataset-of-geotagged-images/59.400365_17.885742_1a63156194556.jpg', 116), ('../data/trial_data/large-dataset-of-geotagged-images/34.201833_-119.015333_102b2898234432.jpg', 130), ('../data/trial_data/large-dataset-of-geotagged-images/27.958775_88.610744_c8d82116887747.jpg', 22), ('../data/trial_data/large-dataset-of-geotagged-images/41.8915_12.492_d7739478413768.jpg', 57)]\n"
     ]
    }
   ],
   "source": [
    "import reverse_geocoder as rg\n",
    "import json\n",
    "\n",
    "coordinates = list(zip(df['lat'], df['lng']))\n",
    "\n",
    "# Use tqdm to show progress\n",
    "tqdm.pandas()\n",
    "\n",
    "# Reverse geocode using mode=2 (batch processing)\n",
    "results = rg.RGeocoder(mode=2).query(coordinates)\n",
    "\n",
    "country_code_to_label = json.load(open(\"../data/trial_data/country_code_to_index.json\", \"r\"))\n",
    "# Add country_code to DataFrame from results\n",
    "df[\"label\"] = [country_code_to_label[result['cc']] for result in results]\n",
    "\n",
    "# Display the DataFrame with the new column\n",
    "data = list(zip(df['id'], df['label']))\n",
    "print(data)"
   ]
  },
  {
   "cell_type": "code",
   "execution_count": null,
   "metadata": {},
   "outputs": [],
   "source": []
  }
 ],
 "metadata": {
  "kernelspec": {
   "display_name": "base",
   "language": "python",
   "name": "python3"
  },
  "language_info": {
   "codemirror_mode": {
    "name": "ipython",
    "version": 3
   },
   "file_extension": ".py",
   "mimetype": "text/x-python",
   "name": "python",
   "nbconvert_exporter": "python",
   "pygments_lexer": "ipython3",
   "version": "3.11.4"
  }
 },
 "nbformat": 4,
 "nbformat_minor": 2
}
