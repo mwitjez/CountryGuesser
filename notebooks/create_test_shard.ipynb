{
 "cells": [
  {
   "cell_type": "code",
   "execution_count": null,
   "metadata": {},
   "outputs": [],
   "source": [
    "import sys\n",
    "import os\n",
    "\n",
    "# Get the project root directory (parent of the notebooks folder)\n",
    "project_root = os.path.abspath(os.path.join(os.getcwd(), '..'))\n",
    "\n",
    "# Add the src folder to the Python path\n",
    "sys.path.append(project_root)"
   ]
  },
  {
   "cell_type": "code",
   "execution_count": 2,
   "metadata": {},
   "outputs": [
    {
     "name": "stderr",
     "output_type": "stream",
     "text": [
      "100%|██████████| 1/1 [00:00<00:00, 210.65it/s]"
     ]
    },
    {
     "name": "stdout",
     "output_type": "stream",
     "text": [
      "Saved 50 records to ../data/trial_data/extracted_shards/extracted_shard_1.msg\n"
     ]
    },
    {
     "name": "stderr",
     "output_type": "stream",
     "text": [
      "\n"
     ]
    }
   ],
   "source": [
    "import os\n",
    "import msgpack\n",
    "from tqdm import tqdm\n",
    "\n",
    "def extract_and_save_first_50_records(shard_fnames, output_dir, limit=50):\n",
    "    os.makedirs(output_dir, exist_ok=True)  # Create the output directory if it doesn't exist\n",
    "\n",
    "    for shard_fname in tqdm(shard_fnames):\n",
    "        # Create a new file to save the extracted records\n",
    "        extracted_records = []\n",
    "        \n",
    "        # Read the shard file\n",
    "        with open(shard_fname, \"rb\") as infile:\n",
    "            unpacker = msgpack.Unpacker(infile, raw=False)\n",
    "            \n",
    "            # Extract the first 'limit' records\n",
    "            for idx, record in enumerate(unpacker):\n",
    "                if idx < limit:\n",
    "                    extracted_records.append(record)\n",
    "                else:\n",
    "                    break\n",
    "\n",
    "        # Define the new filename for the output\n",
    "        shard_basename = os.path.basename(shard_fname)\n",
    "        output_fname = os.path.join(output_dir, f\"extracted_{shard_basename}\")\n",
    "        \n",
    "        # Save the extracted records to a new .msg file, writing them one by one (not as a list)\n",
    "        with open(output_fname, \"wb\") as outfile:\n",
    "            packer = msgpack.Packer()\n",
    "            for record in extracted_records:\n",
    "                outfile.write(packer.pack(record))  # Write each record individually\n",
    "\n",
    "        print(f\"Saved {len(extracted_records)} records to {output_fname}\")\n",
    "\n",
    "# Example usage\n",
    "dataset_dir = \"../data/trial_data/shards/\"\n",
    "shard_fnames = [os.path.join(dataset_dir, fname) for fname in os.listdir(dataset_dir) if fname.endswith(\".msg\")]\n",
    "output_dir = \"../data/trial_data/extracted_shards/\"\n",
    "\n",
    "# Extract and save the first 50 records from each shard\n",
    "extract_and_save_first_50_records(shard_fnames, output_dir, limit=50)\n"
   ]
  }
 ],
 "metadata": {
  "kernelspec": {
   "display_name": "base",
   "language": "python",
   "name": "python3"
  },
  "language_info": {
   "codemirror_mode": {
    "name": "ipython",
    "version": 3
   },
   "file_extension": ".py",
   "mimetype": "text/x-python",
   "name": "python",
   "nbconvert_exporter": "python",
   "pygments_lexer": "ipython3",
   "version": "3.11.4"
  }
 },
 "nbformat": 4,
 "nbformat_minor": 2
}
