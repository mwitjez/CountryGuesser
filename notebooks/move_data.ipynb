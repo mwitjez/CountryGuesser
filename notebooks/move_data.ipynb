{
 "cells": [
  {
   "cell_type": "code",
   "execution_count": 2,
   "metadata": {},
   "outputs": [],
   "source": [
    "import sys\n",
    "import os\n",
    "\n",
    "# Get the project root directory (parent of the notebooks folder)\n",
    "project_root = os.path.abspath(os.path.join(os.getcwd(), '..'))\n",
    "\n",
    "# Add the src folder to the Python path\n",
    "sys.path.append(project_root)"
   ]
  },
  {
   "cell_type": "code",
   "execution_count": 1,
   "metadata": {},
   "outputs": [
    {
     "name": "stdout",
     "output_type": "stream",
     "text": [
      "Data split and moved successfully!\n"
     ]
    }
   ],
   "source": [
    "import os\n",
    "import shutil\n",
    "from sklearn.model_selection import train_test_split\n",
    "\n",
    "full_data_dir = '../data/full_data/street-location-images/data_mapped/'\n",
    "\n",
    "# Destination directories for processed data\n",
    "train_dir = '../data/full_data/train/'\n",
    "val_dir = '../data/full_data/val/'\n",
    "test_dir = '../data/full_data/test/'\n",
    "\n",
    "# Create processed directories if they don't exist\n",
    "for dir_path in [train_dir, val_dir, test_dir]:\n",
    "    os.makedirs(dir_path, exist_ok=True)\n",
    "\n",
    "# Get list of image filenames (assume PNG) and corresponding JSON labels\n",
    "image_files = [f for f in os.listdir(full_data_dir) if f.endswith('.png')]\n",
    "label_files = [f for f in os.listdir(full_data_dir) if f.endswith('.json')]\n",
    "\n",
    "# Create a dictionary where the key is the base filename (without extension)\n",
    "# and the value is a tuple of (image_filename, label_filename)\n",
    "file_pairs = {os.path.splitext(f)[0]: (f, f.replace('.png', '.json')) for f in image_files if f.replace('.png', '.json') in label_files}\n",
    "\n",
    "# Extract the image and label filenames\n",
    "image_files, label_files = zip(*file_pairs.values())\n",
    "\n",
    "# Split into train, validation, and test sets (80% train, 10% validation, 10% test)\n",
    "train_images, temp_images, train_labels, temp_labels = train_test_split(image_files, label_files, test_size=0.2, random_state=42)\n",
    "val_images, test_images, val_labels, test_labels = train_test_split(temp_images, temp_labels, test_size=0.5, random_state=42)\n",
    "\n",
    "# Helper function to move files\n",
    "def move_files(file_list, src_dir, dest_dir):\n",
    "    for file_name in file_list:\n",
    "        src_path = os.path.join(src_dir, file_name)\n",
    "        dest_path = os.path.join(dest_dir, file_name)\n",
    "        shutil.move(src_path, dest_path)\n",
    "\n",
    "# Move image files\n",
    "move_files(train_images, full_data_dir, train_dir)\n",
    "move_files(val_images, full_data_dir, val_dir)\n",
    "move_files(test_images, full_data_dir, test_dir)\n",
    "\n",
    "# Move label files\n",
    "move_files(train_labels, full_data_dir, train_dir)\n",
    "move_files(val_labels, full_data_dir, val_dir)\n",
    "move_files(test_labels, full_data_dir, test_dir)\n",
    "\n",
    "print(\"Data split and moved successfully!\")\n"
   ]
  }
 ],
 "metadata": {
  "kernelspec": {
   "display_name": "base",
   "language": "python",
   "name": "python3"
  },
  "language_info": {
   "codemirror_mode": {
    "name": "ipython",
    "version": 3
   },
   "file_extension": ".py",
   "mimetype": "text/x-python",
   "name": "python",
   "nbconvert_exporter": "python",
   "pygments_lexer": "ipython3",
   "version": "3.11.4"
  }
 },
 "nbformat": 4,
 "nbformat_minor": 2
}
