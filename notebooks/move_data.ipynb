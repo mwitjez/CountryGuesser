{
 "cells": [
  {
   "cell_type": "code",
   "execution_count": null,
   "metadata": {},
   "outputs": [],
   "source": [
    "import os\n",
    "import shutil\n",
    "import json\n",
    "from sklearn.model_selection import train_test_split\n",
    "\n",
    "# Paths to raw data\n",
    "images_dir = 'data/raw/images/'\n",
    "labels_dir = 'data/raw/labels/'\n",
    "\n",
    "# Destination directories for processed data\n",
    "train_images_dir = 'data/processed/train/images/'\n",
    "val_images_dir = 'data/processed/val/images/'\n",
    "test_images_dir = 'data/processed/test/images/'\n",
    "\n",
    "train_labels_dir = 'data/processed/train/labels/'\n",
    "val_labels_dir = 'data/processed/val/labels/'\n",
    "test_labels_dir = 'data/processed/test/labels/'\n",
    "\n",
    "# Create processed directories if they don't exist\n",
    "for dir_path in [train_images_dir, val_images_dir, test_images_dir, \n",
    "                 train_labels_dir, val_labels_dir, test_labels_dir]:\n",
    "    os.makedirs(dir_path, exist_ok=True)\n",
    "\n",
    "# Get list of image filenames (assume PNG) and corresponding JSON labels\n",
    "image_files = [f for f in os.listdir(images_dir) if f.endswith('.png')]\n",
    "label_files = [f.replace('.png', '.json') for f in image_files]  # Assuming JSON label filenames match the image filenames\n",
    "\n",
    "# Split into train, validation, and test sets (80% train, 10% validation, 10% test)\n",
    "train_images, temp_images, train_labels, temp_labels = train_test_split(image_files, label_files, test_size=0.2, random_state=42)\n",
    "val_images, test_images, val_labels, test_labels = train_test_split(temp_images, temp_labels, test_size=0.5, random_state=42)\n",
    "\n",
    "# Helper function to move files\n",
    "def move_files(file_list, src_dir, dest_dir):\n",
    "    for file_name in file_list:\n",
    "        src_path = os.path.join(src_dir, file_name)\n",
    "        dest_path = os.path.join(dest_dir, file_name)\n",
    "        shutil.move(src_path, dest_path)\n",
    "\n",
    "# Move image files\n",
    "move_files(train_images, images_dir, train_images_dir)\n",
    "move_files(val_images, images_dir, val_images_dir)\n",
    "move_files(test_images, images_dir, test_images_dir)\n",
    "\n",
    "# Move label files\n",
    "move_files(train_labels, labels_dir, train_labels_dir)\n",
    "move_files(val_labels, labels_dir, val_labels_dir)\n",
    "move_files(test_labels, labels_dir, test_labels_dir)\n",
    "\n",
    "print(\"Data split and moved successfully!\")\n"
   ]
  }
 ],
 "metadata": {
  "language_info": {
   "name": "python"
  }
 },
 "nbformat": 4,
 "nbformat_minor": 2
}
